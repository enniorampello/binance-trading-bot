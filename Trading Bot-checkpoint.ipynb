{
 "cells": [
  {
   "cell_type": "code",
   "execution_count": 3,
   "metadata": {},
   "outputs": [],
   "source": [
    "import pandas as pd\n",
    "import matplotlib.pyplot as plt"
   ]
  },
  {
   "cell_type": "code",
   "execution_count": 73,
   "metadata": {},
   "outputs": [],
   "source": [
    "import datetime\n",
    "from pathlib import Path\n",
    "from datetime import timedelta\n",
    "\n",
    "data_path = Path.cwd() / f'data/BTCUSDT/training-data-2h.csv'\n",
    "from_date = datetime.datetime.strptime('2018-01-01', '%Y-%m-%d')\n",
    "to_date = from_date + timedelta(days=520)\n",
    "\n",
    "df = pd.read_csv(data_path)\n",
    "df['OpenTime'] = pd.to_datetime(df['Open time'], format='%Y-%m-%d %H:%M:%S')\n",
    "df = df.drop(['Open time'], axis=1)\n",
    "df = df[(df.OpenTime >= from_date) & (df.OpenTime <= to_date)]"
   ]
  },
  {
   "cell_type": "code",
   "execution_count": 74,
   "metadata": {},
   "outputs": [],
   "source": [
    "df = df.set_index('OpenTime')"
   ]
  },
  {
   "cell_type": "code",
   "execution_count": 75,
   "metadata": {},
   "outputs": [
    {
     "data": {
      "text/html": [
       "<div>\n",
       "<style scoped>\n",
       "    .dataframe tbody tr th:only-of-type {\n",
       "        vertical-align: middle;\n",
       "    }\n",
       "\n",
       "    .dataframe tbody tr th {\n",
       "        vertical-align: top;\n",
       "    }\n",
       "\n",
       "    .dataframe thead th {\n",
       "        text-align: right;\n",
       "    }\n",
       "</style>\n",
       "<table border=\"1\" class=\"dataframe\">\n",
       "  <thead>\n",
       "    <tr style=\"text-align: right;\">\n",
       "      <th></th>\n",
       "      <th>Open</th>\n",
       "      <th>High</th>\n",
       "      <th>Low</th>\n",
       "      <th>Close</th>\n",
       "      <th>Volume</th>\n",
       "    </tr>\n",
       "    <tr>\n",
       "      <th>OpenTime</th>\n",
       "      <th></th>\n",
       "      <th></th>\n",
       "      <th></th>\n",
       "      <th></th>\n",
       "      <th></th>\n",
       "    </tr>\n",
       "  </thead>\n",
       "  <tbody>\n",
       "    <tr>\n",
       "      <th>2018-01-01 01:00:00</th>\n",
       "      <td>13715.65</td>\n",
       "      <td>13715.65</td>\n",
       "      <td>13155.38</td>\n",
       "      <td>13203.06</td>\n",
       "      <td>827.05</td>\n",
       "    </tr>\n",
       "    <tr>\n",
       "      <th>2018-01-01 03:00:00</th>\n",
       "      <td>13203.00</td>\n",
       "      <td>13611.27</td>\n",
       "      <td>13200.00</td>\n",
       "      <td>13410.03</td>\n",
       "      <td>849.15</td>\n",
       "    </tr>\n",
       "    <tr>\n",
       "      <th>2018-01-01 05:00:00</th>\n",
       "      <td>13434.98</td>\n",
       "      <td>13699.00</td>\n",
       "      <td>13322.15</td>\n",
       "      <td>13558.99</td>\n",
       "      <td>745.04</td>\n",
       "    </tr>\n",
       "    <tr>\n",
       "      <th>2018-01-01 07:00:00</th>\n",
       "      <td>13539.00</td>\n",
       "      <td>13818.55</td>\n",
       "      <td>13510.00</td>\n",
       "      <td>13570.35</td>\n",
       "      <td>557.18</td>\n",
       "    </tr>\n",
       "    <tr>\n",
       "      <th>2018-01-01 09:00:00</th>\n",
       "      <td>13569.98</td>\n",
       "      <td>13735.24</td>\n",
       "      <td>13400.00</td>\n",
       "      <td>13616.99</td>\n",
       "      <td>484.91</td>\n",
       "    </tr>\n",
       "    <tr>\n",
       "      <th>...</th>\n",
       "      <td>...</td>\n",
       "      <td>...</td>\n",
       "      <td>...</td>\n",
       "      <td>...</td>\n",
       "      <td>...</td>\n",
       "    </tr>\n",
       "    <tr>\n",
       "      <th>2019-06-04 16:00:00</th>\n",
       "      <td>8025.04</td>\n",
       "      <td>8027.24</td>\n",
       "      <td>7916.00</td>\n",
       "      <td>7941.11</td>\n",
       "      <td>3989.79</td>\n",
       "    </tr>\n",
       "    <tr>\n",
       "      <th>2019-06-04 18:00:00</th>\n",
       "      <td>7941.91</td>\n",
       "      <td>7976.99</td>\n",
       "      <td>7606.48</td>\n",
       "      <td>7621.24</td>\n",
       "      <td>11440.77</td>\n",
       "    </tr>\n",
       "    <tr>\n",
       "      <th>2019-06-04 20:00:00</th>\n",
       "      <td>7621.24</td>\n",
       "      <td>7736.00</td>\n",
       "      <td>7531.11</td>\n",
       "      <td>7621.46</td>\n",
       "      <td>9125.27</td>\n",
       "    </tr>\n",
       "    <tr>\n",
       "      <th>2019-06-04 22:00:00</th>\n",
       "      <td>7621.51</td>\n",
       "      <td>7740.80</td>\n",
       "      <td>7486.00</td>\n",
       "      <td>7494.11</td>\n",
       "      <td>4839.85</td>\n",
       "    </tr>\n",
       "    <tr>\n",
       "      <th>2019-06-05 00:00:00</th>\n",
       "      <td>7490.20</td>\n",
       "      <td>7700.00</td>\n",
       "      <td>7481.02</td>\n",
       "      <td>7687.03</td>\n",
       "      <td>4143.95</td>\n",
       "    </tr>\n",
       "  </tbody>\n",
       "</table>\n",
       "<p>6206 rows × 5 columns</p>\n",
       "</div>"
      ],
      "text/plain": [
       "                         Open      High       Low     Close    Volume\n",
       "OpenTime                                                             \n",
       "2018-01-01 01:00:00  13715.65  13715.65  13155.38  13203.06    827.05\n",
       "2018-01-01 03:00:00  13203.00  13611.27  13200.00  13410.03    849.15\n",
       "2018-01-01 05:00:00  13434.98  13699.00  13322.15  13558.99    745.04\n",
       "2018-01-01 07:00:00  13539.00  13818.55  13510.00  13570.35    557.18\n",
       "2018-01-01 09:00:00  13569.98  13735.24  13400.00  13616.99    484.91\n",
       "...                       ...       ...       ...       ...       ...\n",
       "2019-06-04 16:00:00   8025.04   8027.24   7916.00   7941.11   3989.79\n",
       "2019-06-04 18:00:00   7941.91   7976.99   7606.48   7621.24  11440.77\n",
       "2019-06-04 20:00:00   7621.24   7736.00   7531.11   7621.46   9125.27\n",
       "2019-06-04 22:00:00   7621.51   7740.80   7486.00   7494.11   4839.85\n",
       "2019-06-05 00:00:00   7490.20   7700.00   7481.02   7687.03   4143.95\n",
       "\n",
       "[6206 rows x 5 columns]"
      ]
     },
     "execution_count": 75,
     "metadata": {},
     "output_type": "execute_result"
    }
   ],
   "source": [
    "df"
   ]
  },
  {
   "cell_type": "code",
   "execution_count": 76,
   "metadata": {},
   "outputs": [
    {
     "data": {
      "text/plain": [
       "<matplotlib.axes._subplots.AxesSubplot at 0x7fe69ffb0a00>"
      ]
     },
     "execution_count": 76,
     "metadata": {},
     "output_type": "execute_result"
    },
    {
     "data": {
      "image/png": "[encoded data removed]",
      "text/plain": [
       "<Figure size 432x288 with 1 Axes>"
      ]
     },
     "metadata": {
      "needs_background": "light"
     },
     "output_type": "display_data"
    }
   ],
   "source": [
    "df['Close'].plot()"
   ]
  },
  {
   "cell_type": "code",
   "execution_count": 77,
   "metadata": {},
   "outputs": [
    {
     "data": {
      "text/plain": [
       "numpy.float64"
      ]
     },
     "execution_count": 77,
     "metadata": {},
     "output_type": "execute_result"
    }
   ],
   "source": [
    "type(df.iloc[0].Close)"
   ]
  },
  {
   "cell_type": "code",
   "execution_count": 78,
   "metadata": {},
   "outputs": [],
   "source": [
    "mask = df[0:5]"
   ]
  },
  {
   "cell_type": "code",
   "execution_count": 79,
   "metadata": {},
   "outputs": [
    {
     "data": {
      "text/html": [
       "<div>\n",
       "<style scoped>\n",
       "    .dataframe tbody tr th:only-of-type {\n",
       "        vertical-align: middle;\n",
       "    }\n",
       "\n",
       "    .dataframe tbody tr th {\n",
       "        vertical-align: top;\n",
       "    }\n",
       "\n",
       "    .dataframe thead th {\n",
       "        text-align: right;\n",
       "    }\n",
       "</style>\n",
       "<table border=\"1\" class=\"dataframe\">\n",
       "  <thead>\n",
       "    <tr style=\"text-align: right;\">\n",
       "      <th></th>\n",
       "      <th>Open</th>\n",
       "      <th>High</th>\n",
       "      <th>Low</th>\n",
       "      <th>Close</th>\n",
       "      <th>Volume</th>\n",
       "    </tr>\n",
       "    <tr>\n",
       "      <th>OpenTime</th>\n",
       "      <th></th>\n",
       "      <th></th>\n",
       "      <th></th>\n",
       "      <th></th>\n",
       "      <th></th>\n",
       "    </tr>\n",
       "  </thead>\n",
       "  <tbody>\n",
       "    <tr>\n",
       "      <th>2018-01-01 09:00:00</th>\n",
       "      <td>13569.98</td>\n",
       "      <td>13735.24</td>\n",
       "      <td>13400.0</td>\n",
       "      <td>13616.99</td>\n",
       "      <td>484.91</td>\n",
       "    </tr>\n",
       "  </tbody>\n",
       "</table>\n",
       "</div>"
      ],
      "text/plain": [
       "                         Open      High      Low     Close  Volume\n",
       "OpenTime                                                          \n",
       "2018-01-01 09:00:00  13569.98  13735.24  13400.0  13616.99  484.91"
      ]
     },
     "execution_count": 79,
     "metadata": {},
     "output_type": "execute_result"
    }
   ],
   "source": [
    "mask.tail(1)"
   ]
  },
  {
   "cell_type": "code",
   "execution_count": 80,
   "metadata": {},
   "outputs": [
    {
     "data": {
      "text/plain": [
       "numpy.float64"
      ]
     },
     "execution_count": 80,
     "metadata": {},
     "output_type": "execute_result"
    }
   ],
   "source": [
    "x = 7000 + mask.iloc[4].Close\n",
    "type(x)"
   ]
  },
  {
   "cell_type": "code",
   "execution_count": 81,
   "metadata": {},
   "outputs": [
    {
     "data": {
      "text/plain": [
       "5"
      ]
     },
     "execution_count": 81,
     "metadata": {},
     "output_type": "execute_result"
    }
   ],
   "source": [
    "len(mask)"
   ]
  },
  {
   "cell_type": "code",
   "execution_count": 82,
   "metadata": {},
   "outputs": [
    {
     "data": {
      "text/plain": [
       "Open      13569.98\n",
       "High      13735.24\n",
       "Low       13400.00\n",
       "Close     13616.99\n",
       "Volume      484.91\n",
       "Name: 2018-01-01 09:00:00, dtype: float64"
      ]
     },
     "execution_count": 82,
     "metadata": {},
     "output_type": "execute_result"
    }
   ],
   "source": [
    "mask.iloc[4]"
   ]
  },
  {
   "cell_type": "code",
   "execution_count": 93,
   "metadata": {},
   "outputs": [
    {
     "data": {
      "text/plain": [
       "datetime.datetime(2019, 1, 1, 1, 0)"
      ]
     },
     "execution_count": 93,
     "metadata": {},
     "output_type": "execute_result"
    }
   ],
   "source": [
    "date = datetime.datetime(2019, 1, 1, 1)\n",
    "date"
   ]
  },
  {
   "cell_type": "code",
   "execution_count": 95,
   "metadata": {},
   "outputs": [],
   "source": [
    "date = date.strftime('%Y-%m-%d %H:%M:%S') # not necessary"
   ]
  },
  {
   "cell_type": "code",
   "execution_count": 96,
   "metadata": {},
   "outputs": [
    {
     "data": {
      "text/plain": [
       "pandas.core.series.Series"
      ]
     },
     "execution_count": 96,
     "metadata": {},
     "output_type": "execute_result"
    }
   ],
   "source": [
    "type(df.iloc[0])"
   ]
  },
  {
   "cell_type": "code",
   "execution_count": 97,
   "metadata": {},
   "outputs": [
    {
     "data": {
      "text/plain": [
       "Open      3701.23\n",
       "High      3713.00\n",
       "Low       3684.22\n",
       "Close     3689.69\n",
       "Volume    1299.91\n",
       "Name: 2019-01-01 01:00:00, dtype: float64"
      ]
     },
     "execution_count": 97,
     "metadata": {},
     "output_type": "execute_result"
    }
   ],
   "source": [
    "df.loc[date]"
   ]
  },
  {
   "cell_type": "code",
   "execution_count": null,
   "metadata": {},
   "outputs": [],
   "source": []
  }
 ],
 "metadata": {
  "kernelspec": {
   "display_name": "Python 3",
   "language": "python",
   "name": "python3"
  },
  "language_info": {
   "codemirror_mode": {
    "name": "ipython",
    "version": 3
   },
   "file_extension": ".py",
   "mimetype": "text/x-python",
   "name": "python",
   "nbconvert_exporter": "python",
   "pygments_lexer": "ipython3",
   "version": "3.8.1"
  }
 },
 "nbformat": 4,
 "nbformat_minor": 4
}
